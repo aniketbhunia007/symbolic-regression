{
 "cells": [
  {
   "cell_type": "code",
   "execution_count": 1,
   "metadata": {},
   "outputs": [],
   "source": [
    "from pyevolve import G1DList\n",
    "from pyevolve import GSimpleGA\n",
    "from pyevolve import Selectors\n",
    "from pyevolve import Statistics\n",
    "from pyevolve import DBAdapters,Scaling\n",
    "from pyevolve import Consts\n",
    "import random\n",
    "import math"
   ]
  },
  {
   "cell_type": "code",
   "execution_count": 2,
   "metadata": {},
   "outputs": [],
   "source": [
    "# This function is the evaluation function, we want\n",
    "# to give high score to more zero'ed chromosomes\n",
    "def eval_func(genome):\n",
    "\n",
    "    # iterate over the chromosome\n",
    "    # The same as \"score = len(filter(lambda x: x==0, genome))\"\n",
    "    c=genome[len(genome)-1]**3\n",
    "    \n",
    "    total=0\n",
    "    for value in genome[:len(genome)-1]:\n",
    "        total+=value**3\n",
    "        \n",
    "    return abs(c-total)"
   ]
  },
  {
   "cell_type": "raw",
   "metadata": {},
   "source": [
    "# This function is the evaluation function, we want\n",
    "# to give high score to more zero'ed chromosomes\n",
    "def eval_func(genome):\n",
    "    n = 61\n",
    "    # iterate over the chromosome\n",
    "    # The same as \"score = len(filter(lambda x: x==0, genome))\"\n",
    "    total = genome[0] ** 2 - n * genome[1] ** 2\n",
    "    # size 2 \n",
    "    return abs (total - 1)"
   ]
  },
  {
   "cell_type": "code",
   "execution_count": 11,
   "metadata": {
    "scrolled": false
   },
   "outputs": [],
   "source": [
    "def run_main():\n",
    "    #random.seed(619)\n",
    "    # 519 for 1 8 6 9\n",
    "    # 419 for 3 4 5 6\n",
    "    \n",
    "    # Genome instance, 1D List of 50 elements\n",
    "    genome = G1DList.G1DList(4)\n",
    "\n",
    "    # Sets the range max and min of the 1D List\n",
    "    genome.setParams(rangemin=1, rangemax=20,bestrawscore=0.0000)\n",
    "\n",
    "    # The evaluator function (evaluation function)\n",
    "    genome.evaluator.set(eval_func)\n",
    "\n",
    "    # Genetic Algorithm Instance\n",
    "    ga = GSimpleGA.GSimpleGA(genome)\n",
    "    ga.setMinimax(Consts.minimaxType[\"minimize\"])\n",
    "\n",
    "    # set the Roulette Wheel selector method, the number of generations and\n",
    "    # the termination criteria\n",
    "    ga.selector.set(Selectors.GRouletteWheel)\n",
    "    ga.setGenerations(2000)\n",
    "    ga.setMutationRate(0.2)\n",
    "    ga.setCrossoverRate(0.2)\n",
    "    ga.setPopulationSize(300)\n",
    "    ga.terminationCriteria.set(GSimpleGA.RawScoreCriteria)\n",
    "    #ga.terminationCriteria.set(GSimpleGA.ConvergenceCriteria)\n",
    "    \n",
    "    pop = ga.getPopulation()\n",
    "    pop.scaleMethod.set(Scaling.SigmaTruncScaling)\n",
    "\n",
    "    # Do the evolution, with stats dump\n",
    "    # frequency of 20 generations\n",
    "    ga.evolve(freq_stats=100)\n",
    "\n",
    "    # Best individual\n",
    "    print ga.bestIndividual()"
   ]
  },
  {
   "cell_type": "code",
   "execution_count": 12,
   "metadata": {
    "scrolled": false
   },
   "outputs": [
    {
     "name": "stdout",
     "output_type": "stream",
     "text": [
      "Gen. 0 (0.00%): Max/Min/Avg Fitness(Raw) [24817.03(21707.00)/3119.03(9.00)/8160.87(5050.84)]\n",
      "\n",
      "\tEvolution stopped by Termination Criteria function !\n",
      "\n",
      "Gen. 15 (0.75%): Max/Min/Avg Fitness(Raw) [7252.84(6293.00)/959.84(0.00)/1966.08(1006.25)]\n",
      "Total time elapsed: 0.113 seconds.\n",
      "- GenomeBase\n",
      "\tScore:\t\t\t 0.000000\n",
      "\tFitness:\t\t 959.836378\n",
      "\n",
      "\tParams:\t\t {'bestrawscore': 0.0, 'rangemax': 20, 'rangemin': 1}\n",
      "\n",
      "\tSlot [Evaluator] (Count: 1)\n",
      "\t\tName: eval_func - Weight: 0.50\n",
      "\tSlot [Initializator] (Count: 1)\n",
      "\t\tName: G1DListInitializatorInteger - Weight: 0.50\n",
      "\t\tDoc:  Integer initialization function of G1DList\n",
      "\n",
      "    This initializator accepts the *rangemin* and *rangemax* genome parameters.\n",
      "\n",
      "    \n",
      "\tSlot [Mutator] (Count: 1)\n",
      "\t\tName: G1DListMutatorSwap - Weight: 0.50\n",
      "\t\tDoc:  The mutator of G1DList, Swap Mutator\n",
      "\n",
      "   .. note:: this mutator is :term:`Data Type Independent`\n",
      "\n",
      "   \n",
      "\tSlot [Crossover] (Count: 1)\n",
      "\t\tName: G1DListCrossoverSinglePoint - Weight: 0.50\n",
      "\t\tDoc:  The crossover of G1DList, Single Point\n",
      "\n",
      "   .. warning:: You can't use this crossover method for lists with just one element.\n",
      "\n",
      "   \n",
      "\n",
      "- G1DList\n",
      "\tList size:\t 4\n",
      "\tList:\t\t [6, 8, 1, 9]\n",
      "\n",
      "\n"
     ]
    }
   ],
   "source": [
    "if __name__ == \"__main__\":\n",
    "    run_main()"
   ]
  },
  {
   "cell_type": "code",
   "execution_count": null,
   "metadata": {},
   "outputs": [],
   "source": []
  }
 ],
 "metadata": {
  "kernelspec": {
   "display_name": "Python 2",
   "language": "python",
   "name": "python2"
  },
  "language_info": {
   "codemirror_mode": {
    "name": "ipython",
    "version": 2
   },
   "file_extension": ".py",
   "mimetype": "text/x-python",
   "name": "python",
   "nbconvert_exporter": "python",
   "pygments_lexer": "ipython2",
   "version": "2.7.15"
  }
 },
 "nbformat": 4,
 "nbformat_minor": 2
}
