{
 "cells": [
  {
   "cell_type": "code",
   "execution_count": 1,
   "metadata": {},
   "outputs": [],
   "source": [
    "from pyevolve import G1DList, GSimpleGA, Selectors, Scaling, DBAdapters,Mutators\n",
    "from random import seed, randint, random, uniform"
   ]
  },
  {
   "cell_type": "code",
   "execution_count": 2,
   "metadata": {},
   "outputs": [],
   "source": [
    "def eval_polynomial(x, *coefficients):\n",
    "    result = 0\n",
    "    for exponent, coeff in enumerate(coefficients):\n",
    "        result += coeff*x**exponent\n",
    "    return result"
   ]
  },
  {
   "cell_type": "code",
   "execution_count": 3,
   "metadata": {},
   "outputs": [],
   "source": [
    "def generate_fitness_function(sample_points):\n",
    "    def fitness_function(chromosome):\n",
    "        score = 0\n",
    "        for point in sample_points:\n",
    "            delta = abs(eval_polynomial(point[0], *chromosome) - point[1])\n",
    "            score += delta\n",
    "        score = -score\n",
    "        return score\n",
    "    return fitness_function"
   ]
  },
  {
   "cell_type": "code",
   "execution_count": 4,
   "metadata": {},
   "outputs": [
    {
     "name": "stdout",
     "output_type": "stream",
     "text": [
      "Source polynomial: [2, 3, 4]\n",
      "Sample points: [(50, 10152), (4, 78), (48, 9362), (-44, 7614), (-10, 372), (-7, 177), (22, 2004), (3, 47), (50, 10152), (-10, 372), (13, 717), (-44, 7614), (-1, 3), (30, 3692), (30, 3692), (-37, 5367), (26, 2784), (-2, 12), (26, 2784), (-34, 4524), (-22, 1872), (-6, 128), (29, 3453), (-27, 2837), (33, 4457), (36, 5294), (28, 3222), (-43, 7269), (25, 2577), (-25, 2427), (30, 3692), (-21, 1703), (-7, 177), (32, 4194), (-15, 857), (48, 9362), (-40, 6282), (24, 2378), (30, 3692), (31, 3939), (22, 2004), (-1, 3), (-5, 87), (-37, 5367), (16, 1074), (32, 4194), (-23, 2049), (-25, 2427), (44, 7878), (-37, 5367), (45, 8237), (-9, 299), (1, 9), (-27, 2837), (25, 2577), (10, 432), (3, 47), (-43, 7269), (-44, 7614), (-45, 7967), (44, 7878), (-36, 5078), (14, 828), (-13, 639), (15, 947), (43, 7527), (-43, 7269), (26, 2784), (-45, 7967), (27, 2999), (46, 8604), (-19, 1389), (-3, 29), (-32, 4002), (-33, 4259), (-42, 6932), (-12, 542), (49, 9753), (33, 4457), (32, 4194), (38, 5892), (32, 4194), (35, 5007), (4, 78), (22, 2004), (19, 1503), (5, 117), (-2, 12), (5, 117), (-43, 7269), (2, 24), (-11, 453), (44, 7878), (40, 6522), (-50, 9852), (-50, 9852), (-38, 5664), (49, 9753), (41, 6849), (-45, 7967)]\n"
     ]
    }
   ],
   "source": [
    "    # Generate a random polynomial, and generate sample points from it\n",
    "    seed()\n",
    "\n",
    "    source_polynomial = [2,3,4] #2+3x+4x**2\n",
    "\n",
    "    sample_points = []\n",
    "    for i in xrange(100):\n",
    "        n=randint(-50,50)\n",
    "        sample_points.append((n, eval_polynomial(n, *source_polynomial)))     \n",
    "    print(\"Source polynomial: \" + repr(source_polynomial))\n",
    "    print(\"Sample points: \" + repr(sample_points))"
   ]
  },
  {
   "cell_type": "code",
   "execution_count": 5,
   "metadata": {
    "scrolled": false
   },
   "outputs": [
    {
     "name": "stdout",
     "output_type": "stream",
     "text": [
      "Gen. 0 (0.00%): Max/Min/Avg Fitness(Raw) [41924386.27(-5446.00)/4020323.27(-37909509.00)/23473729.41(-18456102.86)]\n",
      "Gen. 10 (10.00%): Max/Min/Avg Fitness(Raw) [3353139.65(0.00)/0.00(-34039430.00)/3131896.36(-283723.30)]\n",
      "Gen. 20 (20.00%): Max/Min/Avg Fitness(Raw) [5452267.22(0.00)/0.00(-37812604.24)/5242642.20(-396225.09)]\n",
      "Gen. 30 (30.00%): Max/Min/Avg Fitness(Raw) [5512236.85(0.00)/0.00(-34050306.00)/5306224.95(-392884.81)]\n",
      "Gen. 40 (40.00%): Max/Min/Avg Fitness(Raw) [3842152.12(0.00)/0.00(-26483268.77)/3666747.54(-298327.49)]\n",
      "Gen. 50 (50.00%): Max/Min/Avg Fitness(Raw) [5861081.03(0.00)/0.00(-32290122.17)/5686066.73(-400610.75)]\n",
      "Gen. 60 (60.00%): Max/Min/Avg Fitness(Raw) [2687931.36(0.00)/0.00(-20138376.83)/2584806.71(-185415.56)]\n",
      "Gen. 70 (70.00%): Max/Min/Avg Fitness(Raw) [3967013.13(0.00)/0.00(-25706364.87)/3847540.07(-251594.89)]\n",
      "Gen. 80 (80.00%): Max/Min/Avg Fitness(Raw) [2753649.87(0.00)/0.00(-22690265.46)/2644350.34(-188374.15)]\n",
      "Gen. 90 (90.00%): Max/Min/Avg Fitness(Raw) [4230679.26(0.00)/0.00(-22730771.16)/4059391.02(-338880.77)]\n",
      "Gen. 100 (100.00%): Max/Min/Avg Fitness(Raw) [5577251.65(0.00)/0.00(-30253001.15)/5354045.22(-443135.25)]\n",
      "Total time elapsed: 21.837 seconds.\n",
      "- GenomeBase\n",
      "\tScore:\t\t\t 0.000000\n",
      "\tFitness:\t\t 5577251.651717\n",
      "\n",
      "\tParams:\t\t {'rangemax': 10, 'rangemin': 0}\n",
      "\n",
      "\tSlot [Evaluator] (Count: 1)\n",
      "\t\tName: fitness_function - Weight: 0.50\n",
      "\tSlot [Initializator] (Count: 1)\n",
      "\t\tName: G1DListInitializatorInteger - Weight: 0.50\n",
      "\t\tDoc:  Integer initialization function of G1DList\n",
      "\n",
      "    This initializator accepts the *rangemin* and *rangemax* genome parameters.\n",
      "\n",
      "    \n",
      "\tSlot [Mutator] (Count: 2)\n",
      "\t\tName: G1DListMutatorRealGaussian - Weight: 0.50\n",
      "\t\tDoc:  The mutator of G1DList, Gaussian Mutator\n",
      "\n",
      "   Accepts the *rangemin* and *rangemax* genome parameters, both optional. Also\n",
      "   accepts the parameter *gauss_mu* and the *gauss_sigma* which respectively\n",
      "   represents the mean and the std. dev. of the random distribution.\n",
      "\n",
      "   \n",
      "\t\tName: G1DListMutatorSwap - Weight: 0.50\n",
      "\t\tDoc:  The mutator of G1DList, Swap Mutator\n",
      "\n",
      "   .. note:: this mutator is :term:`Data Type Independent`\n",
      "\n",
      "   \n",
      "\tSlot [Crossover] (Count: 1)\n",
      "\t\tName: G1DListCrossoverSinglePoint - Weight: 0.50\n",
      "\t\tDoc:  The crossover of G1DList, Single Point\n",
      "\n",
      "   .. warning:: You can't use this crossover method for lists with just one element.\n",
      "\n",
      "   \n",
      "\n",
      "- G1DList\n",
      "\tList size:\t 4\n",
      "\tList:\t\t [2, 3, 4, 0]\n",
      "\n",
      "\n"
     ]
    }
   ],
   "source": [
    "    # Create the population\n",
    "    genome = G1DList.G1DList(4)\n",
    "    genome.evaluator.set(generate_fitness_function(sample_points))\n",
    "    genome.setParams(rangemin=0, rangemax=10)\n",
    "\n",
    "    # Set up the engine\n",
    "    ga = GSimpleGA.GSimpleGA(genome)\n",
    "    ga.setPopulationSize(500)\n",
    "    ga.selector.set(Selectors.GRouletteWheel)\n",
    "    \n",
    "    #set 2 mutator at the same time\n",
    "    genome.mutator.set(Mutators.G1DListMutatorRealGaussian)\n",
    "    genome.mutator.add(Mutators.G1DListMutatorSwap) #Swap is the default mutator\n",
    "    genome.mutator.setRandomApply(True) #randomizely pick one\n",
    "\n",
    "    # Change the scaling method\n",
    "    pop = ga.getPopulation()\n",
    "    pop.scaleMethod.set(Scaling.SigmaTruncScaling)\n",
    "    \n",
    "    #to save the data into databse\n",
    "    sqlite_adapter = DBAdapters.DBSQLite(identify=\"ex1\")\n",
    "    ga.setDBAdapter(sqlite_adapter)\n",
    "    \n",
    "    #to plot via terminal\n",
    "    '''pyevolve_graph.py -i ex1 -1'''\n",
    "    \n",
    "\n",
    "    # Start the algorithm, and print the results.\n",
    "    ga.evolve(freq_stats=10)\n",
    "    \n",
    "    print(ga.bestIndividual())\n",
    "    #print(\"Source polynomial: \" + repr(source_polynomial))\n",
    "    #print(\"Sample points: \" + repr(sample_points))"
   ]
  },
  {
   "cell_type": "code",
   "execution_count": 6,
   "metadata": {},
   "outputs": [
    {
     "data": {
      "text/plain": [
       "<Figure size 640x480 with 1 Axes>"
      ]
     },
     "metadata": {},
     "output_type": "display_data"
    }
   ],
   "source": [
    "def f1(t):\n",
    "    return 2+3*t+4*t**2\n",
    "def f2(t):\n",
    "    return 2+3*t+4*t**2\n",
    "\n",
    "import numpy as np\n",
    "import matplotlib.pyplot as plt\n",
    "\n",
    "\n",
    "t1 = np.arange(0,60,1)\n",
    "\n",
    "plt.plot(t1,f1(t1),'-')\n",
    "plt.plot(t1,f2(t1),'--')\n",
    "#plt.plot(t1,f3(t1),'.')\n",
    "\n",
    "plt.show()"
   ]
  },
  {
   "cell_type": "code",
   "execution_count": null,
   "metadata": {},
   "outputs": [],
   "source": [
    "print(ga.worstIndividual())"
   ]
  },
  {
   "cell_type": "code",
   "execution_count": null,
   "metadata": {},
   "outputs": [],
   "source": []
  }
 ],
 "metadata": {
  "kernelspec": {
   "display_name": "Python 2",
   "language": "python",
   "name": "python2"
  },
  "language_info": {
   "codemirror_mode": {
    "name": "ipython",
    "version": 2
   },
   "file_extension": ".py",
   "mimetype": "text/x-python",
   "name": "python",
   "nbconvert_exporter": "python",
   "pygments_lexer": "ipython2",
   "version": "2.7.15"
  }
 },
 "nbformat": 4,
 "nbformat_minor": 2
}
